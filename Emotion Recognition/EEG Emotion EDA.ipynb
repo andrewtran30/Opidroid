{
 "cells": [
  {
   "cell_type": "code",
   "execution_count": 2,
   "metadata": {},
   "outputs": [],
   "source": [
    "import pandas as pd\n",
    "import numpy as np\n",
    "import matplotlib.pyplot as plt\n",
    "import seaborn as sns\n",
    "%matplotlib inline\n",
    "\n",
    "from sklearn.pipeline import Pipeline\n",
    "from sklearn.preprocessing import StandardScaler\n",
    "from sklearn.decomposition import PCA\n",
    "from sklearn.ensemble import RandomForestClassifier\n",
    "from sklearn.svm import LinearSVC\n",
    "from sklearn import svm\n",
    "from sklearn.model_selection import cross_val_score, train_test_split, cross_val_predict\n",
    "from sklearn.metrics import log_loss, make_scorer\n",
    "from sklearn.linear_model import LogisticRegression\n",
    "from sklearn.neural_network import MLPClassifier\n",
    "from sklearn.preprocessing import LabelEncoder\n",
    "\n",
    "\n",
    "import xgboost as xgb\n",
    "\n",
    "import warnings\n",
    "warnings.filterwarnings('ignore')\n"
   ]
  },
  {
   "cell_type": "markdown",
   "metadata": {},
   "source": [
    "# DATA CONVERSION\n",
    "NEGATIVE = 0\n",
    "NEUTRAL = 1\n",
    "POSITIVE = 2"
   ]
  },
  {
   "cell_type": "code",
   "execution_count": 3,
   "metadata": {},
   "outputs": [],
   "source": [
    "eeg_data = pd.read_csv('emotions.csv')\n",
    "\n",
    "eeg_train_df = eeg_data.iloc[:, 0:2548].values\n",
    "eeg_train_labels = eeg_data.iloc[:, 2548].values\n",
    "le = LabelEncoder()\n",
    "labels = le.fit_transform(eeg_train_labels)\n",
    "\n",
    "sc = StandardScaler()\n",
    "eeg_train_X = sc.fit_transform(eeg_train_df)\n"
   ]
  },
  {
   "cell_type": "code",
   "execution_count": 4,
   "metadata": {},
   "outputs": [],
   "source": [
    "from math import log2\n",
    "\n",
    "# proprotion of examples in each class\n",
    "neutral_probability = 716/2132\n",
    "negative_probability = 708/2132\n",
    "positive_probability = 716/2132"
   ]
  },
  {
   "cell_type": "code",
   "execution_count": 5,
   "metadata": {},
   "outputs": [],
   "source": [
    "def entropy(class1, class2, class3):\n",
    "    return -(class1 * log2(class1) + class2 * log2(class2) + class3 * log2(class3))"
   ]
  },
  {
   "cell_type": "code",
   "execution_count": 6,
   "metadata": {},
   "outputs": [
    {
     "name": "stdout",
     "output_type": "stream",
     "text": [
      "Entropy: 1.585 bits \n"
     ]
    }
   ],
   "source": [
    "# print the result\n",
    "class_entropy = entropy(neutral_probability, negative_probability, positive_probability)\n",
    "print('Entropy: %.3f bits ' % class_entropy)"
   ]
  },
  {
   "cell_type": "code",
   "execution_count": null,
   "metadata": {},
   "outputs": [],
   "source": []
  }
 ],
 "metadata": {
  "kernelspec": {
   "display_name": "Python 3",
   "language": "python",
   "name": "python3"
  },
  "language_info": {
   "codemirror_mode": {
    "name": "ipython",
    "version": 3
   },
   "file_extension": ".py",
   "mimetype": "text/x-python",
   "name": "python",
   "nbconvert_exporter": "python",
   "pygments_lexer": "ipython3",
   "version": "3.7.3"
  }
 },
 "nbformat": 4,
 "nbformat_minor": 2
}
