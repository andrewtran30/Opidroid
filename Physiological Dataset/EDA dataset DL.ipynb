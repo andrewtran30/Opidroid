{
 "cells": [
  {
   "cell_type": "code",
   "execution_count": 1,
   "metadata": {},
   "outputs": [],
   "source": [
    "from mpl_toolkits.mplot3d import Axes3D\n",
    "from sklearn.preprocessing import StandardScaler\n",
    "import matplotlib.pyplot as plt # plotting\n",
    "import numpy as np # linear algebra\n",
    "import pandas as pd # data processing, CSV file I/O (e.g. pd.read_csv)\n",
    "import seaborn as sns # using seaborn for data visualization\n",
    "%matplotlib inline\n",
    "from sklearn.pipeline import Pipeline\n",
    "from sklearn.ensemble import RandomForestClassifier\n",
    "from sklearn.model_selection import cross_val_score, train_test_split\n",
    "\n",
    "import glob\n",
    "import xgboost as xgb\n",
    "\n",
    "import warnings\n",
    "warnings.filterwarnings('ignore')\n",
    "\n",
    "import os\n",
    "os.environ[\"PATH\"] += os.pathsep + 'C:/Program Files (x86)/Graphviz2.38/bin/'"
   ]
  },
  {
   "cell_type": "code",
   "execution_count": 2,
   "metadata": {},
   "outputs": [
    {
     "data": {
      "text/plain": [
       "MEAN                        float64\n",
       "MAX                         float64\n",
       "MIN                         float64\n",
       "RANGE                       float64\n",
       "KURT                        float64\n",
       "SKEW                        float64\n",
       "MEAN_1ST_GRAD               float64\n",
       "STD_1ST_GRAD                float64\n",
       "MEAN_2ND_GRAD               float64\n",
       "STD_2ND_GRAD                float64\n",
       "ALSC                        float64\n",
       "INSC                        float64\n",
       "APSC                        float64\n",
       "RMSC                        float64\n",
       "subject id                    int64\n",
       "MEAN_LOG                    float64\n",
       "INSC_LOG                    float64\n",
       "APSC_LOG                    float64\n",
       "RMSC_LOG                    float64\n",
       "RANGE_LOG                   float64\n",
       "ALSC_LOG                    float64\n",
       "MIN_LOG                     float64\n",
       "MEAN_1ST_GRAD_LOG           float64\n",
       "MEAN_2ND_GRAD_LOG           float64\n",
       "MIN_LOG_LOG                 float64\n",
       "MEAN_1ST_GRAD_LOG_LOG       float64\n",
       "MEAN_2ND_GRAD_LOG_LOG       float64\n",
       "APSC_LOG_LOG                float64\n",
       "ALSC_LOG_LOG                float64\n",
       "APSC_BOXCOX                 float64\n",
       "RMSC_BOXCOX                 float64\n",
       "RANGE_BOXCOX                float64\n",
       "MEAN_YEO_JONSON             float64\n",
       "SKEW_YEO_JONSON             float64\n",
       "KURT_YEO_JONSON             float64\n",
       "APSC_YEO_JONSON             float64\n",
       "MIN_YEO_JONSON              float64\n",
       "MAX_YEO_JONSON              float64\n",
       "MEAN_1ST_GRAD_YEO_JONSON    float64\n",
       "RMSC_YEO_JONSON             float64\n",
       "STD_1ST_GRAD_YEO_JONSON     float64\n",
       "RANGE_SQRT                  float64\n",
       "RMSC_SQUARED                float64\n",
       "MEAN_2ND_GRAD_CUBE          float64\n",
       "INSC_APSC                   float64\n",
       "condition                    object\n",
       "SSSQ class                   object\n",
       "SSSQ Label                    int64\n",
       "condition label               int64\n",
       "dtype: object"
      ]
     },
     "execution_count": 2,
     "metadata": {},
     "output_type": "execute_result"
    }
   ],
   "source": [
    "# Creating our data\n",
    "eda_train_data = pd.read_csv('combined/classification/wesad-classification-eda-train-dataset.csv')\n",
    "eda_validation_data = pd.read_csv('combined/classification/wesad-classification-eda-validation-dataset.csv')\n",
    "eda_test_data = pd.read_csv('combined/classification/wesad-classification-eda-test-dataset.csv')\n",
    "\n",
    "eda_train_data.dtypes"
   ]
  },
  {
   "cell_type": "markdown",
   "metadata": {},
   "source": [
    "# Data Conversion\n",
    "STRESS = 2\n",
    "AMUSEMENT = 1\n",
    "BASELINE = 0"
   ]
  },
  {
   "cell_type": "code",
   "execution_count": 3,
   "metadata": {},
   "outputs": [],
   "source": [
    "# Preprocessing our training data\n",
    "eda_train_data.drop('condition', axis=1, inplace=True)\n",
    "eda_train_data.drop('subject id', axis=1, inplace=True)\n",
    "eda_train_data.drop('SSSQ class', axis=1, inplace=True)\n",
    "\n",
    "#\n",
    "# Grab values to create a numpy array\n",
    "eda_train_df = eda_train_data.iloc[:, 0:45].values\n",
    "eda_train_labels_df = eda_train_data.iloc[:, 45].values\n",
    "\n",
    "# Grab values to create a numpy array\n",
    "eda_test_df = eda_test_data.iloc[:, 0:45].values\n",
    "eda_test_labels_df = eda_test_data.iloc[:, 45].values\n",
    "\n",
    "sc = StandardScaler()\n",
    "eda_train_X = sc.fit_transform(eda_train_df)\n",
    "\n",
    "sc2 = StandardScaler()\n",
    "eda_test_X = sc2.fit_transform(eda_test_df)\n"
   ]
  },
  {
   "cell_type": "code",
   "execution_count": 4,
   "metadata": {},
   "outputs": [
    {
     "name": "stdout",
     "output_type": "stream",
     "text": [
      "WARNING:tensorflow:From C:\\Users\\trana\\AppData\\Local\\Continuum\\anaconda3\\lib\\site-packages\\tensorflow\\python\\ops\\resource_variable_ops.py:435: colocate_with (from tensorflow.python.framework.ops) is deprecated and will be removed in a future version.\n",
      "Instructions for updating:\n",
      "Colocations handled automatically by placer.\n",
      "WARNING:tensorflow:From C:\\Users\\trana\\AppData\\Local\\Continuum\\anaconda3\\lib\\site-packages\\tensorflow\\python\\ops\\math_ops.py:3066: to_int32 (from tensorflow.python.ops.math_ops) is deprecated and will be removed in a future version.\n",
      "Instructions for updating:\n",
      "Use tf.cast instead.\n",
      "Epoch 1/8\n",
      "27158/27158 [==============================] - 0s 13us/sample - loss: 0.7785 - acc: 0.6730\n",
      "Epoch 2/8\n",
      "27158/27158 [==============================] - 0s 9us/sample - loss: 0.4902 - acc: 0.8108\n",
      "Epoch 3/8\n",
      "27158/27158 [==============================] - 0s 9us/sample - loss: 0.3119 - acc: 0.8880\n",
      "Epoch 4/8\n",
      "27158/27158 [==============================] - 0s 9us/sample - loss: 0.2004 - acc: 0.9369\n",
      "Epoch 5/8\n",
      "27158/27158 [==============================] - 0s 9us/sample - loss: 0.1325 - acc: 0.9679\n",
      "Epoch 6/8\n",
      "27158/27158 [==============================] - 0s 9us/sample - loss: 0.0915 - acc: 0.9799\n",
      "Epoch 7/8\n",
      "27158/27158 [==============================] - 0s 9us/sample - loss: 0.0683 - acc: 0.9870\n",
      "Epoch 8/8\n",
      "27158/27158 [==============================] - 0s 9us/sample - loss: 0.0513 - acc: 0.9913\n"
     ]
    }
   ],
   "source": [
    "from tensorflow.keras.models import Sequential\n",
    "from tensorflow.keras.layers import Dense\n",
    "from tensorflow.keras.utils import to_categorical\n",
    "\n",
    "batch_size = 128\n",
    "epochs = 8\n",
    "categorical_labels = to_categorical(eda_train_labels_df, num_classes=3)\n",
    "\n",
    "model = Sequential()\n",
    "\n",
    "model = Sequential()\n",
    "model.add(Dense(32, input_dim=45, activation='relu'))\n",
    "model.add(Dense(16, activation='relu'))\n",
    "model.add(Dense(3, activation='softmax'))\n",
    "\n",
    "\n",
    "model.compile(loss='categorical_crossentropy', optimizer='adam', metrics=['accuracy'])\n",
    "\n",
    "history = model.fit(eda_train_X, categorical_labels, epochs=epochs, batch_size=batch_size)"
   ]
  },
  {
   "cell_type": "code",
   "execution_count": 5,
   "metadata": {},
   "outputs": [],
   "source": [
    "# Creating our testing data \n",
    "\n",
    "eda_test_data.drop('condition', axis=1, inplace=True)\n",
    "eda_test_data.drop('subject id', axis=1, inplace=True)\n",
    "eda_test_data.drop('SSSQ class', axis=1, inplace=True)\n",
    "\n",
    "# Grab values to create a numpy array\n",
    "eda_test_df = eda_train_data.iloc[:, 0:45].values\n",
    "eda_test_labels_df = eda_train_data.iloc[:, 45].values\n",
    "\n",
    "sc2 = StandardScaler()\n",
    "\n",
    "eda_test_X = sc2.fit_transform(eda_test_df)\n",
    "\n",
    "# Convert data into a normalized distribution"
   ]
  },
  {
   "cell_type": "code",
   "execution_count": 6,
   "metadata": {},
   "outputs": [
    {
     "name": "stdout",
     "output_type": "stream",
     "text": [
      "27158/27158 [==============================] - 0s 13us/sample - loss: 0.0442 - acc: 0.9940\n",
      "Accuracy: 99.40\n"
     ]
    }
   ],
   "source": [
    "categorical_test_labels = to_categorical(eda_test_labels_df, num_classes=3)\n",
    "_, accuracy = model.evaluate(eda_test_X, categorical_test_labels)\n",
    "print('Accuracy: %.2f' % (accuracy*100))"
   ]
  },
  {
   "cell_type": "code",
   "execution_count": 7,
   "metadata": {},
   "outputs": [
    {
     "name": "stderr",
     "output_type": "stream",
     "text": [
      "Using TensorFlow backend.\n"
     ]
    },
    {
     "data": {
      "image/svg+xml": [
       "<svg height=\"264pt\" viewBox=\"0.00 0.00 112.00 264.00\" width=\"112pt\" xmlns=\"http://www.w3.org/2000/svg\" xmlns:xlink=\"http://www.w3.org/1999/xlink\">\n",
       "<g class=\"graph\" id=\"graph0\" transform=\"scale(1 1) rotate(0) translate(4 260)\">\n",
       "<title>G</title>\n",
       "<polygon fill=\"white\" points=\"-4,4 -4,-260 108,-260 108,4 -4,4\" stroke=\"none\"/>\n",
       "<!-- 2905885764576 -->\n",
       "<g class=\"node\" id=\"node1\"><title>2905885764576</title>\n",
       "<polygon fill=\"none\" points=\"7,-146.5 7,-182.5 97,-182.5 97,-146.5 7,-146.5\" stroke=\"black\"/>\n",
       "<text font-family=\"Times New Roman,serif\" font-size=\"14.00\" text-anchor=\"middle\" x=\"52\" y=\"-160.8\">dense: Dense</text>\n",
       "</g>\n",
       "<!-- 2905796618112 -->\n",
       "<g class=\"node\" id=\"node2\"><title>2905796618112</title>\n",
       "<polygon fill=\"none\" points=\"0,-73.5 0,-109.5 104,-109.5 104,-73.5 0,-73.5\" stroke=\"black\"/>\n",
       "<text font-family=\"Times New Roman,serif\" font-size=\"14.00\" text-anchor=\"middle\" x=\"52\" y=\"-87.8\">dense_1: Dense</text>\n",
       "</g>\n",
       "<!-- 2905885764576&#45;&gt;2905796618112 -->\n",
       "<g class=\"edge\" id=\"edge2\"><title>2905885764576-&gt;2905796618112</title>\n",
       "<path d=\"M52,-146.313C52,-138.289 52,-128.547 52,-119.569\" fill=\"none\" stroke=\"black\"/>\n",
       "<polygon fill=\"black\" points=\"55.5001,-119.529 52,-109.529 48.5001,-119.529 55.5001,-119.529\" stroke=\"black\"/>\n",
       "</g>\n",
       "<!-- 2905902477720 -->\n",
       "<g class=\"node\" id=\"node3\"><title>2905902477720</title>\n",
       "<polygon fill=\"none\" points=\"0,-0.5 0,-36.5 104,-36.5 104,-0.5 0,-0.5\" stroke=\"black\"/>\n",
       "<text font-family=\"Times New Roman,serif\" font-size=\"14.00\" text-anchor=\"middle\" x=\"52\" y=\"-14.8\">dense_2: Dense</text>\n",
       "</g>\n",
       "<!-- 2905796618112&#45;&gt;2905902477720 -->\n",
       "<g class=\"edge\" id=\"edge3\"><title>2905796618112-&gt;2905902477720</title>\n",
       "<path d=\"M52,-73.3129C52,-65.2895 52,-55.5475 52,-46.5691\" fill=\"none\" stroke=\"black\"/>\n",
       "<polygon fill=\"black\" points=\"55.5001,-46.5288 52,-36.5288 48.5001,-46.5289 55.5001,-46.5288\" stroke=\"black\"/>\n",
       "</g>\n",
       "<!-- 2905885764912 -->\n",
       "<g class=\"node\" id=\"node4\"><title>2905885764912</title>\n",
       "<polygon fill=\"none\" points=\"0,-219.5 0,-255.5 104,-255.5 104,-219.5 0,-219.5\" stroke=\"black\"/>\n",
       "<text font-family=\"Times New Roman,serif\" font-size=\"14.00\" text-anchor=\"middle\" x=\"52\" y=\"-233.8\">2905885764912</text>\n",
       "</g>\n",
       "<!-- 2905885764912&#45;&gt;2905885764576 -->\n",
       "<g class=\"edge\" id=\"edge1\"><title>2905885764912-&gt;2905885764576</title>\n",
       "<path d=\"M52,-219.313C52,-211.289 52,-201.547 52,-192.569\" fill=\"none\" stroke=\"black\"/>\n",
       "<polygon fill=\"black\" points=\"55.5001,-192.529 52,-182.529 48.5001,-192.529 55.5001,-192.529\" stroke=\"black\"/>\n",
       "</g>\n",
       "</g>\n",
       "</svg>"
      ],
      "text/plain": [
       "<IPython.core.display.SVG object>"
      ]
     },
     "execution_count": 7,
     "metadata": {},
     "output_type": "execute_result"
    }
   ],
   "source": [
    "from IPython.display import SVG\n",
    "from keras.utils.vis_utils import model_to_dot\n",
    "\n",
    "SVG(model_to_dot(model).create(prog='dot', format='svg'))"
   ]
  },
  {
   "cell_type": "code",
   "execution_count": 8,
   "metadata": {},
   "outputs": [
    {
     "ename": "KeyError",
     "evalue": "'val_acc'",
     "output_type": "error",
     "traceback": [
      "\u001b[1;31m---------------------------------------------------------------------------\u001b[0m",
      "\u001b[1;31mKeyError\u001b[0m                                  Traceback (most recent call last)",
      "\u001b[1;32m<ipython-input-8-2794db1280ec>\u001b[0m in \u001b[0;36m<module>\u001b[1;34m\u001b[0m\n\u001b[0;32m      1\u001b[0m \u001b[0mplt\u001b[0m\u001b[1;33m.\u001b[0m\u001b[0mplot\u001b[0m\u001b[1;33m(\u001b[0m\u001b[0mhistory\u001b[0m\u001b[1;33m.\u001b[0m\u001b[0mhistory\u001b[0m\u001b[1;33m[\u001b[0m\u001b[1;34m'acc'\u001b[0m\u001b[1;33m]\u001b[0m\u001b[1;33m)\u001b[0m\u001b[1;33m\u001b[0m\u001b[1;33m\u001b[0m\u001b[0m\n\u001b[1;32m----> 2\u001b[1;33m \u001b[0mplt\u001b[0m\u001b[1;33m.\u001b[0m\u001b[0mplot\u001b[0m\u001b[1;33m(\u001b[0m\u001b[0mhistory\u001b[0m\u001b[1;33m.\u001b[0m\u001b[0mhistory\u001b[0m\u001b[1;33m[\u001b[0m\u001b[1;34m'val_acc'\u001b[0m\u001b[1;33m]\u001b[0m\u001b[1;33m)\u001b[0m\u001b[1;33m\u001b[0m\u001b[1;33m\u001b[0m\u001b[0m\n\u001b[0m\u001b[0;32m      3\u001b[0m \u001b[0mplt\u001b[0m\u001b[1;33m.\u001b[0m\u001b[0mtitle\u001b[0m\u001b[1;33m(\u001b[0m\u001b[1;34m'Model accuracy'\u001b[0m\u001b[1;33m)\u001b[0m\u001b[1;33m\u001b[0m\u001b[1;33m\u001b[0m\u001b[0m\n\u001b[0;32m      4\u001b[0m \u001b[0mplt\u001b[0m\u001b[1;33m.\u001b[0m\u001b[0mylabel\u001b[0m\u001b[1;33m(\u001b[0m\u001b[1;34m'Accuracy'\u001b[0m\u001b[1;33m)\u001b[0m\u001b[1;33m\u001b[0m\u001b[1;33m\u001b[0m\u001b[0m\n\u001b[0;32m      5\u001b[0m \u001b[0mplt\u001b[0m\u001b[1;33m.\u001b[0m\u001b[0mxlabel\u001b[0m\u001b[1;33m(\u001b[0m\u001b[1;34m'Epoch'\u001b[0m\u001b[1;33m)\u001b[0m\u001b[1;33m\u001b[0m\u001b[1;33m\u001b[0m\u001b[0m\n",
      "\u001b[1;31mKeyError\u001b[0m: 'val_acc'"
     ]
    },
    {
     "data": {
      "image/png": "[encoded data removed]",
      "text/plain": [
       "<Figure size 432x288 with 1 Axes>"
      ]
     },
     "metadata": {
      "needs_background": "light"
     },
     "output_type": "display_data"
    }
   ],
   "source": [
    "plt.plot(history.history['acc'])\n",
    "plt.plot(history.history['val_acc'])\n",
    "plt.title('Model accuracy')\n",
    "plt.ylabel('Accuracy')\n",
    "plt.xlabel('Epoch')\n",
    "plt.legend(['Train', 'Test'], loc='upper left')\n",
    "plt.show()"
   ]
  },
  {
   "cell_type": "code",
   "execution_count": null,
   "metadata": {},
   "outputs": [],
   "source": []
  }
 ],
 "metadata": {
  "kernelspec": {
   "display_name": "Python 3",
   "language": "python",
   "name": "python3"
  },
  "language_info": {
   "codemirror_mode": {
    "name": "ipython",
    "version": 3
   },
   "file_extension": ".py",
   "mimetype": "text/x-python",
   "name": "python",
   "nbconvert_exporter": "python",
   "pygments_lexer": "ipython3",
   "version": "3.7.3"
  }
 },
 "nbformat": 4,
 "nbformat_minor": 2
}
